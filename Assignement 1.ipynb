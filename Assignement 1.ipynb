{
 "cells": [
  {
   "cell_type": "markdown",
   "id": "87bcf798-4c99-4e87-a87e-a6652500d5f1",
   "metadata": {},
   "source": [
    "##      ASSIGNMENT"
   ]
  },
  {
   "cell_type": "markdown",
   "id": "23f5b7a5-20dd-430e-a7da-3348ef810f09",
   "metadata": {},
   "source": [
    "## 1. Write a Python program to print \"Hello Python\"?"
   ]
  },
  {
   "cell_type": "code",
   "execution_count": 1,
   "id": "6d82980d-edd7-463d-9b5e-47b331828fdb",
   "metadata": {},
   "outputs": [
    {
     "name": "stdout",
     "output_type": "stream",
     "text": [
      "hello python\n"
     ]
    }
   ],
   "source": [
    "print(\"hello python\")"
   ]
  },
  {
   "cell_type": "markdown",
   "id": "ecc43eea-9c63-4907-a597-d8fe944288bc",
   "metadata": {},
   "source": [
    "## 2. Write a Python program to do arithmetical operations addition and division.?"
   ]
  },
  {
   "cell_type": "code",
   "execution_count": 3,
   "id": "fdd69668-9c2a-4f65-a31b-2582962d007c",
   "metadata": {},
   "outputs": [
    {
     "name": "stdout",
     "output_type": "stream",
     "text": [
      "addition is :  50\n",
      "division is : 0.6666666666666666\n"
     ]
    }
   ],
   "source": [
    "number1 = 20 \n",
    "number2 = 30\n",
    "total = number1 + number2 \n",
    "division = number1/number2\n",
    "print(\"addition is : \",total)\n",
    "print(\"division is :\",division)"
   ]
  },
  {
   "cell_type": "markdown",
   "id": "222207fe-d787-4c2b-92c6-8326cb6cd2aa",
   "metadata": {},
   "source": [
    "## 3. Write a Python program to find the area of a triangle?"
   ]
  },
  {
   "cell_type": "code",
   "execution_count": 4,
   "id": "2552e1b4-c7ae-46a3-a910-c53b9de2b9ee",
   "metadata": {},
   "outputs": [
    {
     "name": "stdin",
     "output_type": "stream",
     "text": [
      "enter the value of base: 10\n",
      "enter the value of height: 40\n"
     ]
    },
    {
     "name": "stdout",
     "output_type": "stream",
     "text": [
      "area of triangle is : 200.0\n"
     ]
    }
   ],
   "source": [
    "# area of triangle \n",
    "# 1/2 *base* height\n",
    "\n",
    "base = int(input(\"enter the value of base:\"))\n",
    "height = int(input(\"enter the value of height:\"))\n",
    "area = 1/2 *(base)*height\n",
    "print (\"area of triangle is :\",area)"
   ]
  },
  {
   "cell_type": "markdown",
   "id": "a743f45f-94d9-4327-a06c-091411000893",
   "metadata": {},
   "source": [
    "## 4. Write a Python program to swap two variables?"
   ]
  },
  {
   "cell_type": "code",
   "execution_count": 5,
   "id": "6e289904-8109-46b2-be29-6ba9c003af7d",
   "metadata": {},
   "outputs": [
    {
     "name": "stdout",
     "output_type": "stream",
     "text": [
      "first variable value : 30\n",
      "second variable value : 20\n"
     ]
    }
   ],
   "source": [
    "first_variable = 20 \n",
    "second_variable = 30\n",
    "first_variable,second_variable = second_variable,first_variable\n",
    "\n",
    "print (\"first variable value :\",first_variable)\n",
    "print (\"second variable value :\",second_variable)"
   ]
  },
  {
   "cell_type": "markdown",
   "id": "827304b1-1966-4bc7-a326-906482a171a0",
   "metadata": {},
   "source": [
    "## 5. Write a Python program to generate a random number?"
   ]
  },
  {
   "cell_type": "code",
   "execution_count": 6,
   "id": "7fe47f06-6aa3-4a42-bdea-0d6040f6f476",
   "metadata": {},
   "outputs": [
    {
     "data": {
      "text/plain": [
       "0.10990054050350195"
      ]
     },
     "execution_count": 6,
     "metadata": {},
     "output_type": "execute_result"
    }
   ],
   "source": [
    "import random\n",
    "random.random()"
   ]
  },
  {
   "cell_type": "code",
   "execution_count": 8,
   "id": "9ac31071-b3e3-4e39-bad8-12d1f0cd517f",
   "metadata": {},
   "outputs": [
    {
     "data": {
      "text/plain": [
       "1286"
      ]
     },
     "execution_count": 8,
     "metadata": {},
     "output_type": "execute_result"
    }
   ],
   "source": [
    "import random\n",
    "random.randint(1000,2000)"
   ]
  },
  {
   "cell_type": "code",
   "execution_count": 10,
   "id": "1f0760ed-552d-48f7-a65c-a82addda948e",
   "metadata": {},
   "outputs": [
    {
     "name": "stdout",
     "output_type": "stream",
     "text": [
      "31\n"
     ]
    }
   ],
   "source": [
    "import random \n",
    "print(random.randrange(1,36,2))"
   ]
  },
  {
   "cell_type": "code",
   "execution_count": null,
   "id": "4f0b60dc-d51b-49ef-a2dd-4dbb3706439a",
   "metadata": {},
   "outputs": [],
   "source": []
  }
 ],
 "metadata": {
  "kernelspec": {
   "display_name": "Python 3 (ipykernel)",
   "language": "python",
   "name": "python3"
  },
  "language_info": {
   "codemirror_mode": {
    "name": "ipython",
    "version": 3
   },
   "file_extension": ".py",
   "mimetype": "text/x-python",
   "name": "python",
   "nbconvert_exporter": "python",
   "pygments_lexer": "ipython3",
   "version": "3.13.0"
  }
 },
 "nbformat": 4,
 "nbformat_minor": 5
}
